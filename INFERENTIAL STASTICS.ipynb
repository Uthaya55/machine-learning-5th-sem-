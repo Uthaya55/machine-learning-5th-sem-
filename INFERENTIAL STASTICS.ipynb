{
 "cells": [
  {
   "cell_type": "code",
   "execution_count": 1,
   "id": "8570697e",
   "metadata": {},
   "outputs": [],
   "source": [
    "import numpy as np"
   ]
  },
  {
   "cell_type": "markdown",
   "id": "9e1d3a10",
   "metadata": {},
   "source": [
    "# GENERATE SAMPLE DATA : HEIGHTS OF 30 STUDENTS(IN INCHES)"
   ]
  },
  {
   "cell_type": "code",
   "execution_count": 2,
   "id": "360edd91",
   "metadata": {},
   "outputs": [],
   "source": [
    "np.random.seed(40)\n",
    "heights=np.random.normal(loc=65,scale=3,size=30)"
   ]
  },
  {
   "cell_type": "code",
   "execution_count": 3,
   "id": "89fdf7d0",
   "metadata": {},
   "outputs": [
    {
     "data": {
      "text/plain": [
       "array([63.17735691, 64.62159076, 62.94618092, 67.78614425, 59.4667969 ,\n",
       "       63.59899273, 71.87747103, 66.46643016, 67.13080097, 68.16660333,\n",
       "       65.1622193 , 65.77386025, 66.76484495, 67.65573272, 61.94897893,\n",
       "       64.59892091, 63.6854435 , 66.48033048, 64.40297264, 61.17504918,\n",
       "       65.88048246, 65.32685094, 65.09518036, 68.81791959, 68.2143437 ,\n",
       "       66.24745404, 69.65203769, 64.06586325, 60.86228028, 69.11422636])"
      ]
     },
     "execution_count": 3,
     "metadata": {},
     "output_type": "execute_result"
    }
   ],
   "source": [
    "heights"
   ]
  },
  {
   "cell_type": "markdown",
   "id": "e9650a55",
   "metadata": {},
   "source": [
    "# Point Estimation:Calculate the sample mean"
   ]
  },
  {
   "cell_type": "code",
   "execution_count": 4,
   "id": "67f2d2ac",
   "metadata": {},
   "outputs": [
    {
     "name": "stdout",
     "output_type": "stream",
     "text": [
      "Sample Mean (Point Estimation): 65.53877864874389\n"
     ]
    }
   ],
   "source": [
    "sample_mean=np.mean(heights)\n",
    "print(\"Sample Mean (Point Estimation):\",sample_mean)"
   ]
  },
  {
   "cell_type": "code",
   "execution_count": null,
   "id": "526769b9",
   "metadata": {},
   "outputs": [],
   "source": [
    "import numpy as np\n",
    "import scipy.stats as stats"
   ]
  },
  {
   "cell_type": "markdown",
   "id": "72cf71b3",
   "metadata": {},
   "source": [
    "# GENERATE SAMPLE DATA : HEIGHTS OF  30 STUDENTS(IN INCHES)"
   ]
  },
  {
   "cell_type": "code",
   "execution_count": null,
   "id": "b1c05d3e",
   "metadata": {},
   "outputs": [],
   "source": [
    "np.random.seed(40)\n",
    "heights=np.random.normal(loc=65,scale=3,size=30)"
   ]
  },
  {
   "cell_type": "markdown",
   "id": "4a46341c",
   "metadata": {},
   "source": [
    "# CALCULATE THE SAMPLE MEAN AND STANDARD DEVIATION"
   ]
  },
  {
   "cell_type": "code",
   "execution_count": null,
   "id": "3d870dfc",
   "metadata": {},
   "outputs": [],
   "source": [
    "sample_mean=np.mean(heights)\n",
    "sample_std=np.std(heights,ddof=1)"
   ]
  },
  {
   "cell_type": "markdown",
   "id": "870b0e26",
   "metadata": {},
   "source": [
    "# SET THE DESIRED CONFIDENCE LEVEL"
   ]
  },
  {
   "cell_type": "code",
   "execution_count": null,
   "id": "53a746cc",
   "metadata": {},
   "outputs": [],
   "source": [
    "confidence_level=0.95"
   ]
  },
  {
   "cell_type": "markdown",
   "id": "62936b30",
   "metadata": {},
   "source": [
    "# CALCULATE THE MARGIN OF ERROR "
   ]
  },
  {
   "cell_type": "code",
   "execution_count": null,
   "id": "683fdc3f",
   "metadata": {},
   "outputs": [],
   "source": [
    "margin_of_error=stats.t.ppf((1 + confidence_level)/2,len(heights)-1)*(sample_std/np.sqrt(len(heights)))"
   ]
  },
  {
   "cell_type": "code",
   "execution_count": null,
   "id": "cb0a98c8",
   "metadata": {},
   "outputs": [],
   "source": [
    "margin_of_error"
   ]
  },
  {
   "cell_type": "markdown",
   "id": "5cfabbf3",
   "metadata": {},
   "source": [
    "# CALCULATE THE CONFIDENCE INTERVAL"
   ]
  },
  {
   "cell_type": "code",
   "execution_count": null,
   "id": "64cb8575",
   "metadata": {},
   "outputs": [],
   "source": [
    "lower_bound=sample_mean - margin_of_error\n",
    "upper_bound=sample_mean + margin_of_error"
   ]
  },
  {
   "cell_type": "markdown",
   "id": "aeec47e1",
   "metadata": {},
   "source": [
    "# PRINT THE CONFIDENCE INTERVAL"
   ]
  },
  {
   "cell_type": "code",
   "execution_count": null,
   "id": "8842838a",
   "metadata": {},
   "outputs": [],
   "source": [
    "print(f\"confidence Interval({confidence_level*100}%):[{lower_bound},{upper_bound}]\")"
   ]
  },
  {
   "cell_type": "markdown",
   "id": "c42da3ab",
   "metadata": {},
   "source": [
    "# HYPOTHESIS T TEST"
   ]
  },
  {
   "cell_type": "markdown",
   "id": "fac7c17a",
   "metadata": {},
   "source": [
    "# GENERATE SAMPLE DATA FOR TWO GROUPS "
   ]
  },
  {
   "cell_type": "code",
   "execution_count": null,
   "id": "61bc91d6",
   "metadata": {},
   "outputs": [],
   "source": [
    "np.random.seed(42)\n",
    "group1_scores=np.random.normal(loc=70, scale=5, size=30)\n",
    "group2_scores=np.random.normal(loc=75, scale=5, size=30)"
   ]
  },
  {
   "cell_type": "markdown",
   "id": "31326a6c",
   "metadata": {},
   "source": [
    "# PERFORM INDEPENDENT T TEST"
   ]
  },
  {
   "cell_type": "code",
   "execution_count": null,
   "id": "d05090cf",
   "metadata": {},
   "outputs": [],
   "source": [
    "t_statistic,p_value=stats.ttest_ind(group1_scores,group2_scores)"
   ]
  },
  {
   "cell_type": "markdown",
   "id": "ac39d3d0",
   "metadata": {},
   "source": [
    "# SET THE SIGNIFICANCE LEVEL"
   ]
  },
  {
   "cell_type": "code",
   "execution_count": null,
   "id": "9521c554",
   "metadata": {},
   "outputs": [],
   "source": [
    "alpha=0.05"
   ]
  },
  {
   "cell_type": "code",
   "execution_count": null,
   "id": "7589117f",
   "metadata": {},
   "outputs": [],
   "source": [
    "print(\"T-test Results:\")\n",
    "print(\"T-statistic:\",t_statistic)\n",
    "print(\"p-value:\",p_value)"
   ]
  },
  {
   "cell_type": "markdown",
   "id": "0c44ac19",
   "metadata": {},
   "source": [
    "# CHECK IF  THE ALPHA TO DETERMINE SIGNIFICANCE"
   ]
  },
  {
   "cell_type": "code",
   "execution_count": null,
   "id": "df54d018",
   "metadata": {},
   "outputs": [],
   "source": [
    "if p_value < alpha:\n",
    "    print(\"reject the null hypothesis.there is a significant difference between the means of two groups. \")\n",
    "else:\n",
    "    print(\"fail to reject the null hypothesis.there is no significant difference between the means of the two groups.\")"
   ]
  },
  {
   "cell_type": "markdown",
   "id": "4d0d4a30",
   "metadata": {},
   "source": [
    "# Perfom Two Tailed Test"
   ]
  },
  {
   "cell_type": "code",
   "execution_count": null,
   "id": "c631f9bd",
   "metadata": {},
   "outputs": [],
   "source": [
    "statistic_2tail,p_value_2tail=stats.ttest_ind(group1_scores,group2_scores)"
   ]
  },
  {
   "cell_type": "markdown",
   "id": "fcbf8a22",
   "metadata": {},
   "source": [
    "# Perform one-Tailed T_-Test(right-tailed)"
   ]
  },
  {
   "cell_type": "code",
   "execution_count": null,
   "id": "f48ad760",
   "metadata": {},
   "outputs": [],
   "source": [
    "t_statistic_1tail,p_value_1tail=stats.ttest_ind(group1_scores,group2_scores,alternative=\"greater\")"
   ]
  },
  {
   "cell_type": "markdown",
   "id": "d544c866",
   "metadata": {},
   "source": [
    "# Perform one-Tailed T-Test(left-tailed)"
   ]
  },
  {
   "cell_type": "code",
   "execution_count": null,
   "id": "16c3b029",
   "metadata": {},
   "outputs": [],
   "source": [
    "t_statistic_1tail_left,p_value_1tail_left=stats.ttest_ind(group1_scores,group2_scores,alternative=\"less\")"
   ]
  },
  {
   "cell_type": "markdown",
   "id": "7bdb0c9a",
   "metadata": {},
   "source": [
    "# Print Two-Tailed Test Result "
   ]
  },
  {
   "cell_type": "code",
   "execution_count": null,
   "id": "61e54800",
   "metadata": {},
   "outputs": [],
   "source": [
    "print(\"TWO Tailed Test:\")\n",
    "print(\"T-statistic:\",statistic_2tail)\n",
    "print(\"p_value:\",p_value_2tail)"
   ]
  },
  {
   "cell_type": "markdown",
   "id": "0ffa358c",
   "metadata": {},
   "source": [
    "# Perform one-Tailed T-Test(right-tailed) Result"
   ]
  },
  {
   "cell_type": "code",
   "execution_count": null,
   "id": "34b93105",
   "metadata": {},
   "outputs": [],
   "source": [
    "print(\"TWO Tailed Test:\")\n",
    "print(\"T-statistic:\",t_statistic_1tail)\n",
    "print(\"p_value:\",p_value_1tail)"
   ]
  },
  {
   "cell_type": "markdown",
   "id": "8cb70c9c",
   "metadata": {},
   "source": [
    "# Perform one-Tailed T-Test(left-tailed) Result"
   ]
  },
  {
   "cell_type": "code",
   "execution_count": null,
   "id": "cb6faac0",
   "metadata": {},
   "outputs": [],
   "source": [
    "print(\"TWO Tailed Test:\")\n",
    "print(\"T-statistic:\",t_statistic_1tail_left)\n",
    "print(\"p_value:\",p_value_1tail_left)"
   ]
  },
  {
   "cell_type": "code",
   "execution_count": null,
   "id": "73920295",
   "metadata": {},
   "outputs": [],
   "source": []
  }
 ],
 "metadata": {
  "kernelspec": {
   "display_name": "Python 3 (ipykernel)",
   "language": "python",
   "name": "python3"
  },
  "language_info": {
   "codemirror_mode": {
    "name": "ipython",
    "version": 3
   },
   "file_extension": ".py",
   "mimetype": "text/x-python",
   "name": "python",
   "nbconvert_exporter": "python",
   "pygments_lexer": "ipython3",
   "version": "3.9.18"
  }
 },
 "nbformat": 4,
 "nbformat_minor": 5
}
