{
 "cells": [
  {
   "cell_type": "code",
   "execution_count": 1,
   "id": "11a0146c",
   "metadata": {},
   "outputs": [],
   "source": [
    "import numpy as np"
   ]
  },
  {
   "cell_type": "code",
   "execution_count": 2,
   "id": "732e1a3f",
   "metadata": {},
   "outputs": [],
   "source": [
    "ar1=np.array(6)"
   ]
  },
  {
   "cell_type": "code",
   "execution_count": 3,
   "id": "fbf0d5a3",
   "metadata": {},
   "outputs": [],
   "source": [
    "ar2=np.array([[1,2,3],[4,5,6]])"
   ]
  },
  {
   "cell_type": "code",
   "execution_count": 4,
   "id": "aef7dc40",
   "metadata": {},
   "outputs": [
    {
     "data": {
      "text/plain": [
       "array([[1, 2, 3],\n",
       "       [4, 5, 6]])"
      ]
     },
     "execution_count": 4,
     "metadata": {},
     "output_type": "execute_result"
    }
   ],
   "source": [
    "ar2"
   ]
  },
  {
   "cell_type": "code",
   "execution_count": 5,
   "id": "c5d8cc61",
   "metadata": {},
   "outputs": [],
   "source": [
    "ar3=np.array([1,2,3])"
   ]
  },
  {
   "cell_type": "code",
   "execution_count": 6,
   "id": "4cc27a01",
   "metadata": {},
   "outputs": [
    {
     "data": {
      "text/plain": [
       "array([1, 2, 3])"
      ]
     },
     "execution_count": 6,
     "metadata": {},
     "output_type": "execute_result"
    }
   ],
   "source": [
    "ar3"
   ]
  },
  {
   "cell_type": "code",
   "execution_count": 7,
   "id": "2d8005d9",
   "metadata": {},
   "outputs": [],
   "source": [
    "zero_array=np.zeros((1,2))"
   ]
  },
  {
   "cell_type": "code",
   "execution_count": 8,
   "id": "2f067b95",
   "metadata": {},
   "outputs": [
    {
     "data": {
      "text/plain": [
       "array([[0., 0.]])"
      ]
     },
     "execution_count": 8,
     "metadata": {},
     "output_type": "execute_result"
    }
   ],
   "source": [
    "zero_array"
   ]
  },
  {
   "cell_type": "code",
   "execution_count": 9,
   "id": "47120fea",
   "metadata": {},
   "outputs": [],
   "source": [
    "ar4=np.arange(5,6,9)"
   ]
  },
  {
   "cell_type": "code",
   "execution_count": 10,
   "id": "d69cec91",
   "metadata": {},
   "outputs": [
    {
     "data": {
      "text/plain": [
       "array([5])"
      ]
     },
     "execution_count": 10,
     "metadata": {},
     "output_type": "execute_result"
    }
   ],
   "source": [
    "ar4"
   ]
  },
  {
   "cell_type": "code",
   "execution_count": 11,
   "id": "4bc92c0f",
   "metadata": {},
   "outputs": [],
   "source": [
    "ar5=np.transpose(ar3)"
   ]
  },
  {
   "cell_type": "code",
   "execution_count": 12,
   "id": "377896bd",
   "metadata": {},
   "outputs": [
    {
     "data": {
      "text/plain": [
       "array([1, 2, 3])"
      ]
     },
     "execution_count": 12,
     "metadata": {},
     "output_type": "execute_result"
    }
   ],
   "source": [
    "ar5"
   ]
  },
  {
   "cell_type": "code",
   "execution_count": 13,
   "id": "cdc685ed",
   "metadata": {},
   "outputs": [],
   "source": [
    "ar6=np.ravel(ar5)"
   ]
  },
  {
   "cell_type": "code",
   "execution_count": 14,
   "id": "b549ef7e",
   "metadata": {},
   "outputs": [
    {
     "data": {
      "text/plain": [
       "array([1, 2, 3])"
      ]
     },
     "execution_count": 14,
     "metadata": {},
     "output_type": "execute_result"
    }
   ],
   "source": [
    "ar6"
   ]
  },
  {
   "cell_type": "code",
   "execution_count": 15,
   "id": "21881c9d",
   "metadata": {},
   "outputs": [],
   "source": [
    "a1=np.array([1,2])\n",
    "a2=np.array([3,4])"
   ]
  },
  {
   "cell_type": "code",
   "execution_count": null,
   "id": "af03f6c4",
   "metadata": {},
   "outputs": [],
   "source": []
  }
 ],
 "metadata": {
  "kernelspec": {
   "display_name": "Python 3 (ipykernel)",
   "language": "python",
   "name": "python3"
  },
  "language_info": {
   "codemirror_mode": {
    "name": "ipython",
    "version": 3
   },
   "file_extension": ".py",
   "mimetype": "text/x-python",
   "name": "python",
   "nbconvert_exporter": "python",
   "pygments_lexer": "ipython3",
   "version": "3.9.13"
  }
 },
 "nbformat": 4,
 "nbformat_minor": 5
}
